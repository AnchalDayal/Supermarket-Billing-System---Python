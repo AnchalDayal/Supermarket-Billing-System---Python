{
 "cells": [
  {
   "cell_type": "markdown",
   "id": "42f3c4dc-73d1-41b7-8e7b-4d28033b22ae",
   "metadata": {},
   "source": [
    "# SUPERMARKET BILLING SYSTEM"
   ]
  },
  {
   "cell_type": "code",
   "execution_count": 1,
   "id": "a2adc82c-17d2-4f31-be14-65a35f9937aa",
   "metadata": {},
   "outputs": [
    {
     "name": "stdout",
     "output_type": "stream",
     "text": [
      "Welcome to Supermarket Billing System!\n"
     ]
    },
    {
     "name": "stdin",
     "output_type": "stream",
     "text": [
      "Enter your name:  khushi\n",
      "Enter your phone number:  8989898989\n"
     ]
    },
    {
     "name": "stdout",
     "output_type": "stream",
     "text": [
      "\n",
      "Start entering the items:\n"
     ]
    },
    {
     "name": "stdin",
     "output_type": "stream",
     "text": [
      "Enter item name (or type 'done' to finish):  bread\n",
      "Enter quantity for bread:  2\n",
      "Enter price for bread:  2000\n",
      "Enter item name (or type 'done' to finish):  done\n",
      "\n",
      "Enter payment method (Cash or Card):  cash\n"
     ]
    },
    {
     "name": "stdout",
     "output_type": "stream",
     "text": [
      "\n",
      "======= BILL =======\n",
      "Customer Name: khushi\n",
      "Phone Number: 8989898989\n",
      "Items:\n",
      "bread - 2 x 2000.0 = 4000.0\n",
      "\n",
      "Subtotal: 4000.0\n",
      "Discount: 400.0\n",
      "Total: 3600.0\n",
      "Payment Method: cash\n",
      "====================\n",
      "Thank you for shopping with Supermarket!\n"
     ]
    }
   ],
   "source": [
    "print(\"Welcome to Supermarket Billing System!\")\n",
    "\n",
    "# Ask for customer details\n",
    "customer_name = input(\"Enter your name: \")\n",
    "phone_number = input(\"Enter your phone number: \")\n",
    "while len(phone_number) != 10 or not phone_number.isdigit():\n",
    "    print(\"Please enter a valid 10-digit phone number.\")\n",
    "    phone_number = input(\"Enter your phone number: \")\n",
    "\n",
    "# Adding items\n",
    "print(\"\\nStart entering the items:\")\n",
    "items = []\n",
    "total = 0\n",
    "\n",
    "while True:\n",
    "    item_name = input(\"Enter item name (or type 'done' to finish): \")\n",
    "    if item_name.lower() == 'done':\n",
    "        break\n",
    "    quantity = int(input(\"Enter quantity for \" + item_name + \": \"))\n",
    "    price = float(input(\"Enter price for \" + item_name + \": \"))\n",
    "    \n",
    "    items.append([item_name, quantity, price])\n",
    "    total += quantity * price\n",
    "\n",
    "# Discount calculation\n",
    "if total > 1000:\n",
    "    discount = total * 0.1  # 10% discount\n",
    "elif total > 500:\n",
    "    discount = total * 0.05  # 5% discount\n",
    "else:\n",
    "    discount = 0\n",
    "\n",
    "final_total = total - discount\n",
    "\n",
    "# Ask for payment method\n",
    "payment_method = input(\"\\nEnter payment method (Cash or Card): \")\n",
    "\n",
    "# Printing the bill\n",
    "print(\"\\n======= BILL =======\")\n",
    "print(\"Customer Name: \" + customer_name)\n",
    "print(\"Phone Number: \" + phone_number)\n",
    "print(\"Items:\")\n",
    "\n",
    "for item in items:\n",
    "    print(item[0] + \" - \" + str(item[1]) + \" x \" + str(item[2]) + \" = \" + str(item[1] * item[2]))\n",
    "\n",
    "print(\"\\nSubtotal: \" + str(total))\n",
    "print(\"Discount: \" + str(discount))\n",
    "print(\"Total: \" + str(final_total))\n",
    "print(\"Payment Method: \" + payment_method)\n",
    "print(\"====================\")\n",
    "\n",
    "print(\"Thank you for shopping with Supermarket!\")"
   ]
  },
  {
   "cell_type": "code",
   "execution_count": null,
   "id": "08eedf1a-1e84-4ceb-b5f9-a86760d42f79",
   "metadata": {},
   "outputs": [],
   "source": [
    "\n"
   ]
  }
 ],
 "metadata": {
  "kernelspec": {
   "display_name": "Python 3 (ipykernel)",
   "language": "python",
   "name": "python3"
  },
  "language_info": {
   "codemirror_mode": {
    "name": "ipython",
    "version": 3
   },
   "file_extension": ".py",
   "mimetype": "text/x-python",
   "name": "python",
   "nbconvert_exporter": "python",
   "pygments_lexer": "ipython3",
   "version": "3.12.3"
  }
 },
 "nbformat": 4,
 "nbformat_minor": 5
}
